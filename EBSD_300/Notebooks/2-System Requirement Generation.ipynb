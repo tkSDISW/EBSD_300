{
 "cells": [
  {
   "cell_type": "markdown",
   "id": "2ef785c9-a1c0-4ad7-a185-02a1569ca072",
   "metadata": {},
   "source": [
    "# Model Based System Engineering Analyzer: \n",
    "## Leveraging AI for System Engineering\n",
    "\n",
    "Requirement Document Review for Model Analysis\n",
    "\n",
    "\n",
    "This notebook will load the requirements exported from teamcenter and use it to create a operation and system model. \n"
   ]
  },
  {
   "cell_type": "markdown",
   "id": "b5acc178-1a94-4014-b1f7-13c97a9ba4ec",
   "metadata": {},
   "source": [
    "### Model-Specific Code (Do Not Modify)\n",
    "\n",
    "This section contains code that is specific to the system model. It is updated only when the model is changed and should not require user modifications under normal circumstances.\n",
    "\n",
    "If a new model is introduced, ensure this section is reviewed and updated as needed.\n"
   ]
  },
  {
   "cell_type": "code",
   "execution_count": 1,
   "id": "c7ba8743-5dac-41be-9083-d44aa0199411",
   "metadata": {
    "scrolled": true
   },
   "outputs": [],
   "source": [
    "#!pip install --upgrade git+https://github.com/tkSDISW/Capella_Tools \n",
    "import capellambse.decl\n",
    "\n",
    "from capella_tools import capellambse_helper\n",
    "\n",
    "\n",
    "from IPython import display as diag_display\n",
    "resources = {\n",
    "    \"EBSD_300\": \"EBSD_300/EBSD_300\",\n",
    "}\n",
    "path_to_model = \"../EBSD_300.aird\"\n",
    "model = capellambse.MelodyModel(path_to_model, resources=resources)\n",
    "\n",
    "\n",
    "\n"
   ]
  },
  {
   "cell_type": "code",
   "execution_count": null,
   "id": "5f73131d-3ba3-4c6f-8418-378d418156a6",
   "metadata": {},
   "outputs": [],
   "source": []
  },
  {
   "cell_type": "markdown",
   "id": "f671a45d-5335-463c-802a-156296f21ad4",
   "metadata": {},
   "source": [
    "## 🎯 Prompt for System Model Element Analysis\n",
    "\n",
    "### Purpose\n",
    "This cell accepts a prompt to identify and isolate the specific object(s) to be analyzed. Providing detailed and accurate information in the prompt will ensure the best performance during the analysis.\n",
    "\n",
    "### What to Include in Your Prompt\n",
    "For optimal results, specify the following details about the object(s):\n",
    "1. **Type of ARCADIA Object:** Clearly state the type of the object (e.g., Logical Component, Physical Component, Functional Exchange).\n",
    "2. **Name of the Object:** Provide the exact name of the object as defined in the model.\n",
    "3. **ARCADIA Phase:** Specify the phase associated with the object (e.g., Operational Analysis, System Analysis, Logical Architecture, Physical Architecture).\n",
    "4. **Related Objects:** Identify any objects connected via exchanges or dependencies.\n",
    "\n",
    "### Example Prompt\n",
    "Locate the Logical Component named Brake Pedal in the Logical phase and has a Driver supplying input.\n",
    "### ✅ Tips for Success\n",
    "- **Use precise terminology:** Ensure your prompt aligns with the model's structure and terminology.\n",
    "- **Include related objects:** Whenever possible, specify related objects to enhance context and improve analysis accuracy.\n",
    "- **Double-check details:** Verify object names and phases to ensure they match the model exactly.\n",
    "'''\n",
    "\n",
    "### 🚀 Next Steps\n",
    "1. Run the cell below.\n",
    "2. Enter your prompt, providing the necessary details as outlined above.\n",
    "3. Wait for the analysis to complete.\n",
    "4. Select the best index or indexes for analysis. (The last selection will drive selection of a prompt.)\n",
    "\n",
    "> 💡 **Tip:** If you're unsure about the model structure, review the documentation or refer to the model's diagrams for additional guidance.\n"
   ]
  },
  {
   "cell_type": "code",
   "execution_count": 2,
   "id": "ad3e126f-8410-434d-ae1d-2f58656a5aa1",
   "metadata": {},
   "outputs": [
    {
     "name": "stdout",
     "output_type": "stream",
     "text": [
      "✅ EmbeddingManager initialized\n",
      "🔐 API Key: Loaded from secrets\n",
      "🌐 Base URL: https://api.openai.com/v1\n",
      "🤖 Model: gpt-4o\n",
      "Loading embeddings\n",
      "embeddings loaded.\n"
     ]
    }
   ],
   "source": [
    "\n",
    "from capella_tools  import capella_embeddings_manager\n",
    "\n",
    "# Generate embeddings for all objects\n",
    "model_embedding_manager = capella_embeddings_manager.EmbeddingManager()\n",
    "\n",
    "embedding_file = \"embeddings.json\" \n",
    "model_embedding_manager.set_files( path_to_model , embedding_file)\n",
    "\n",
    "model_embedding_manager.create_model_embeddings(model)"
   ]
  },
  {
   "cell_type": "code",
   "execution_count": 3,
   "id": "a70585ee-be6a-41aa-8cda-ac61eb68be4f",
   "metadata": {},
   "outputs": [
    {
     "name": "stdout",
     "output_type": "stream",
     "text": [
      "\n",
      "This is a list of ranked Objects Based on Query:\n",
      "Index: 0, Name: [OCB] Operational Capabilities, Similarity: 0.78, Type: Diagram, Phase: Operational Analysis OA, Source: , Target: \n"
     ]
    }
   ],
   "source": [
    "selected_objects = model_embedding_manager.query_and_select_top_objects(\"OCB] Operational Capabilities\", top_n=1)\n",
    "#Workflow\n",
    "from capella_tools import capellambse_yaml_manager\n",
    "yaml_handler = capellambse_yaml_manager.CapellaYAMLHandler()\n",
    "   \n",
    "#Generate YAML for the logical component and append to the file\n",
    "for object in  selected_objects : \n",
    "    yaml_handler.generate_yaml(model.by_uuid(object[\"uuid\"]))  \n",
    "\n",
    "\n",
    "#yaml_handler.display()\n",
    "yaml_handler.generate_yaml_referenced_objects()\n",
    "#yaml_handler.display()\n",
    "\n",
    "yaml_handler.write_output_file()"
   ]
  },
  {
   "cell_type": "code",
   "execution_count": 4,
   "id": "8cf53953-bfae-4677-9f45-906e72aa93e1",
   "metadata": {},
   "outputs": [
    {
     "name": "stdout",
     "output_type": "stream",
     "text": [
      "Warning: When  cdn_resources is 'local' jupyter notebook has issues displaying graphics on chrome/safari. Use cdn_resources='in_line' or cdn_resources='remote' if you have issues viewing graphics in a notebook.\n",
      "✅ ChatGPTAnalyzer initialized\n",
      "🔐 API Key: Loaded from secrets\n",
      "🌐 Base URL: https://api.openai.com/v1\n",
      "🤖 Model: gpt-4o\n",
      "✅ File `how_to_book.pdf` added to messages for analysis.\n",
      "✅ File `EBSD 300 Product Requirements Specification.pdf` added to messages for analysis.\n"
     ]
    },
    {
     "data": {
      "text/markdown": [
       "**Your prompt:** \n",
       "Generate a set of 40 system requirements for the Control Subsystem using the yaml and documents for reference do not stop for brevity, only if no new requirements can be noted.\n",
       "- Each requirment should be a tuple: (name, body, rationale).\n",
       "- The name shall be five or fewer words introducing the requirement.\n",
       "- The body shall be in the format of a shall statement, that is clear and concise. \n",
       "- The rationale should explain the source behind numeric requirement. \n",
       "- The response shall be formatted for cutting an pasting in to MS Word.\n",
       "- The name should be a heading format with no preceding number <generate heading>\n",
       "- The body and rationale should be in a paragraph with format <generated body text> Rationale: <generated rationale>\n",
       "Use yaml content and attached pdf documents to provide context to the requirements for this subsystem. \n",
       " Format the response in .html format."
      ],
      "text/plain": [
       "<IPython.core.display.Markdown object>"
      ]
     },
     "metadata": {},
     "output_type": "display_data"
    },
    {
     "data": {
      "text/html": [
       "\n",
       "<!DOCTYPE html>\n",
       "\n",
       "<html>\n",
       "<head>\n",
       "<title>Control Subsystem Requirements</title>\n",
       "</head>\n",
       "<body>\n",
       "<h1>Provide Storage Capabilities</h1>\n",
       "<p>The Control Subsystem shall provide removable mass storage for programs and data, capable of transferring data to and from mass storage devices, subject only to size limitations. Rationale: This requirement is derived from the EBSD 300 Product Requirements Specification, ensuring data management and storage flexibility.</p>\n",
       "<h1>Execution Capabilities</h1>\n",
       "<p>The Control Subsystem shall execute specific user configurations for hardware/software system requirements. Rationale: This ensures that the system can be tailored to meet specific user needs as outlined in the EBSD 300 Product Requirements Specification.</p>\n",
       "<h1>Startup Capabilities</h1>\n",
       "<p>The Control Subsystem shall initialize and perform internal tests as provided by the COTS components, providing feedback. Rationale: This requirement ensures system readiness and reliability, as specified in the EBSD 300 Product Requirements Specification.</p>\n",
       "<h1>Process External Data</h1>\n",
       "<p>The Control Subsystem shall process external data according to specific user configurations. Rationale: This requirement is necessary for the system to adapt to various data inputs, as mentioned in the EBSD 300 Product Requirements Specification.</p>\n",
       "<h1>Caution and Warning Capabilities</h1>\n",
       "<p>The Control Subsystem shall provide caution and warning functionalities based on specific user configurations. Rationale: This ensures user safety and system integrity, as outlined in the EBSD 300 Product Requirements Specification.</p>\n",
       "<h1>File Transfer Capabilities</h1>\n",
       "<p>The Control Subsystem shall support file transfer using USB, LAN, and Wireless interfaces. Rationale: This requirement ensures versatile connectivity options, as specified in the EBSD 300 Product Requirements Specification.</p>\n",
       "<h1>Communication Capabilities</h1>\n",
       "<p>The Control Subsystem shall support data transfer for communication using USB interfaces. Rationale: This ensures basic communication capabilities, as outlined in the EBSD 300 Product Requirements Specification.</p>\n",
       "<h1>Power Consumption Limit</h1>\n",
       "<p>The Control Subsystem shall not exceed a maximum power consumption of 430 W. Rationale: This requirement is based on the power specifications provided in the EBSD 300 Product Requirements Specification.</p>\n",
       "<h1>Operating Thermal Environment</h1>\n",
       "<p>The Control Subsystem shall operate within a thermal environment of 0 to 50 °C. Rationale: This ensures system reliability under specified temperature conditions, as outlined in the EBSD 300 Product Requirements Specification.</p>\n",
       "<h1>Pressure Environment Compliance</h1>\n",
       "<p>The Control Subsystem shall meet performance requirements after exposure to nominal pressure environments. Rationale: This ensures system durability under pressure variations, as specified in the EBSD 300 Product Requirements Specification.</p>\n",
       "<h1>Operating Pressure Range</h1>\n",
       "<p>The Control Subsystem shall operate within an ambient pressure range of 9.5 to 16.0 psia. Rationale: This requirement ensures system functionality under specified pressure conditions, as outlined in the EBSD 300 Product Requirements Specification.</p>\n",
       "<h1>Humidity Tolerance</h1>\n",
       "<p>The Control Subsystem shall perform within 30-90% non-condensing relative humidity. Rationale: This ensures system reliability in varying humidity conditions, as specified in the EBSD 300 Product Requirements Specification.</p>\n",
       "<h1>Vibration Compliance</h1>\n",
       "<p>The Control Subsystem shall comply with a vibration tolerance of 1g. Rationale: This ensures system stability under vibrational forces, as outlined in the EBSD 300 Product Requirements Specification.</p>\n",
       "<h1>Shock Resistance</h1>\n",
       "<p>The Control Subsystem shall withstand a shock requirement of 15g. Rationale: This ensures system durability under shock conditions, as specified in the EBSD 300 Product Requirements Specification.</p>\n",
       "<h1>Ionizing Radiation Tolerance</h1>\n",
       "<p>The Control Subsystem shall meet performance requirements under nominal Single Event Effects (SEE) environments. Rationale: This ensures system reliability in radiation-prone environments, as outlined in the EBSD 300 Product Requirements Specification.</p>\n",
       "<h1>Enriched Oxygen Environment</h1>\n",
       "<p>The Control Subsystem shall perform in an atmosphere of 10.2 ± 0.2 psia with up to 30% oxygen concentration. Rationale: This ensures system functionality in enriched oxygen environments, as specified in the EBSD 300 Product Requirements Specification.</p>\n",
       "<h1>Rear Panel Connections</h1>\n",
       "<p>The Control Subsystem shall have rear panel connections including 1 Gigabit Ethernet port, 2 USB ports, 3 RS232 ports, 1 RS422/485 port, and 5 CAN connections. Rationale: This ensures comprehensive connectivity options, as outlined in the EBSD 300 Product Requirements Specification.</p>\n",
       "<h1>Front Panel Connections</h1>\n",
       "<p>The Control Subsystem shall have a front panel with 1 28-pin I/O interface and 1 Fiber Optic RX/TX port. Rationale: This ensures additional connectivity options, as specified in the EBSD 300 Product Requirements Specification.</p>\n",
       "<h1>Design Robustness</h1>\n",
       "<p>The Control Subsystem design shall communicate robustness, high quality, brand recognition, and readiness for customization. Rationale: This ensures the system meets design expectations, as outlined in the EBSD 300 Product Requirements Specification.</p>\n",
       "<h1>Failure Tolerance</h1>\n",
       "<p>The Control Subsystem shall address failure tolerance levels in the features specification. Rationale: This ensures system reliability and resilience, as specified in the EBSD 300 Product Requirements Specification.</p>\n",
       "<h1>Failure Propagation Analysis</h1>\n",
       "<p>The Control Subsystem shall analyze COTS hardware for intrinsic failure propagation capabilities. Rationale: This ensures system reliability by understanding potential failure modes, as outlined in the EBSD 300 Product Requirements Specification.</p>\n",
       "<h1>Early Failure Screening</h1>\n",
       "<p>The Control Subsystem hardware shall undergo burn-in testing to detect early component failures. Rationale: This ensures system reliability by identifying defects early, as specified in the EBSD 300 Product Requirements Specification.</p>\n",
       "<h1>Usability of Interfaces</h1>\n",
       "<p>The Control Subsystem shall have all interfaces and control elements on one side for easy accessibility. Rationale: This ensures user-friendly design, as outlined in the EBSD 300 Product Requirements Specification.</p>\n",
       "<h1>Embedded Monitoring Capability</h1>\n",
       "<p>The Control Subsystem shall have an embedded monitoring capability for the main board temperature. Rationale: This ensures system reliability by monitoring critical parameters, as specified in the EBSD 300 Product Requirements Specification.</p>\n",
       "<h1>Fanless CPU Cooling</h1>\n",
       "<p>The Control Subsystem shall have a heat-sink with no fans on the CPU. Rationale: This ensures silent operation and reliability, as outlined in the EBSD 300 Product Requirements Specification.</p>\n",
       "<h1>Environmental Temperature Testing</h1>\n",
       "<p>The Control Subsystem shall undergo environmental temperature testing from 0 to 50 °C. Rationale: This ensures system reliability under specified temperature conditions, as specified in the EBSD 300 Product Requirements Specification.</p>\n",
       "<h1>Safety Equipment Preparation</h1>\n",
       "<p>The Control Subsystem shall prepare safety equipment before environmental testing. Rationale: This ensures safety during testing procedures, as outlined in the EBSD 300 Product Requirements Specification.</p>\n",
       "<h1>Environmental Tester Preparation</h1>\n",
       "<p>The Control Subsystem shall plug in and prepare the environmental tester before testing. Rationale: This ensures readiness for testing procedures, as specified in the EBSD 300 Product Requirements Specification.</p>\n",
       "<h1>Temperature Monitoring</h1>\n",
       "<p>The Control Subsystem shall monitor device temperature during environmental testing. Rationale: This ensures accurate data collection during testing, as outlined in the EBSD 300 Product Requirements Specification.</p>\n",
       "<h1>Review Safety Equipment</h1>\n",
       "<p>The Control Subsystem shall review safety equipment after environmental testing. Rationale: This ensures safety and compliance post-testing, as specified in the EBSD 300 Product Requirements Specification.</p>\n",
       "<h1>Simcenter Integration</h1>\n",
       "<p>The Control Subsystem shall integrate with Simcenter for thermal performance testing. Rationale: This ensures comprehensive testing capabilities, as outlined in the Simcenter documentation.</p>\n",
       "<h1>Thermal Characterization</h1>\n",
       "<p>The Control Subsystem shall perform nondestructive thermal characterization. Rationale: This ensures accurate thermal performance data, as specified in the Simcenter documentation.</p>\n",
       "<h1>Automated Model Calibration</h1>\n",
       "<p>The Control Subsystem shall support automated model calibration for thermal metrics. Rationale: This ensures high accuracy in thermal simulations, as outlined in the Simcenter documentation.</p>\n",
       "<h1>High-Volume Testing Capability</h1>\n",
       "<p>The Control Subsystem shall support high-volume testing for production lines. Rationale: This ensures efficiency in mass production, as specified in the Simcenter documentation.</p>\n",
       "<h1>JEDEC Compliance</h1>\n",
       "<p>The Control Subsystem shall comply with JEDEC 51 standards for thermal testing. Rationale: This ensures industry-standard compliance, as outlined in the Simcenter documentation.</p>\n",
       "<h1>Thermal Transient Testing</h1>\n",
       "<p>The Control Subsystem shall perform thermal transient testing for electronic components. Rationale: This ensures accurate thermal response data, as specified in the Simcenter documentation.</p>\n",
       "<h1>Power Cycling Tests</h1>\n",
       "<p>The Control Subsystem shall perform power cycling tests to assess reliability. Rationale: This ensures system durability under operational conditions, as outlined in the Simcenter documentation.</p>\n",
       "<h1>Quality Assurance Integration</h1>\n",
       "<p>The Control Subsystem shall integrate with quality assurance systems for EoL testing. Rationale: This ensures zero-defect production, as specified in the Simcenter documentation.</p>\n",
       "<h1>Simulation Model Calibration</h1>\n",
       "<p>The Control Subsystem shall calibrate simulation models using real-world data. Rationale: This ensures accuracy in thermal simulations, as outlined in the Simcenter documentation.</p>\n",
       "<h1>Thermal Impedance Profiles</h1>\n",
       "<p>The Control Subsystem shall generate thermal impedance profiles for components. Rationale: This ensures detailed thermal analysis, as specified in the Simcenter documentation.</p>\n",
       "</body>\n",
       "</html>\n"
      ],
      "text/plain": [
       "<IPython.core.display.HTML object>"
      ]
     },
     "metadata": {},
     "output_type": "display_data"
    },
    {
     "data": {
      "text/markdown": [
       "**Token Usage Info:**\n",
       "\n",
       "Tokens used: prompt=24110, completion=2139, total=26249"
      ],
      "text/plain": [
       "<IPython.core.display.Markdown object>"
      ]
     },
     "metadata": {},
     "output_type": "display_data"
    }
   ],
   "source": [
    "import os\n",
    "from openai import OpenAI\n",
    "from IPython.core.display import HTML\n",
    "from IPython.display import display, clear_output, Markdown\n",
    "from capella_tools  import Open_AI_RAG_manager\n",
    "\n",
    "\n",
    "     \n",
    "\n",
    "\n",
    "# Step 1: Get YAML content\n",
    "yaml_content = yaml_handler.get_yaml_content()  \n",
    "\n",
    "\n",
    "# Step 2: Invoke ChatGPT for analysis\n",
    "analyzer = Open_AI_RAG_manager.ChatGPTAnalyzer(yaml_content)\n",
    "\n",
    "analyzer.add_text_file_to_messages(\"how_to_book.pdf\")\n",
    "analyzer.add_text_file_to_messages(\"EBSD 300 Product Requirements Specification.pdf\")\n",
    "\n",
    "\n",
    "prompt = \"\"\"\n",
    "Generate a set of 40 system requirements for the Control Subsystem using the yaml and documents for reference do not stop for brevity, only if no new requirements can be noted.\n",
    "- Each requirment should be a tuple: (name, body, rationale).\n",
    "- The name shall be five or fewer words introducing the requirement.\n",
    "- The body shall be in the format of a shall statement, that is clear and concise. \n",
    "- The rationale should explain the source behind numeric requirement. \n",
    "- The response shall be formatted for cutting an pasting in to MS Word.\n",
    "- The name should be a heading format with no preceding number <generate heading>\n",
    "- The body and rationale should be in a paragraph with format <generated body text> Rationale: <generated rationale>\n",
    "Use yaml content and attached pdf documents to provide context to the requirements for this subsystem. \n",
    "\"\"\"\n",
    "\n",
    "analyzer.initial_prompt(prompt)\n",
    "\n",
    "\n",
    "chatgpt_response = analyzer.get_response()\n"
   ]
  },
  {
   "cell_type": "markdown",
   "id": "0ab07e0f-6cdb-4b16-9c5b-0acd3e7944cd",
   "metadata": {},
   "source": [
    "## ⚙️ Execute Followup Prompts\n",
    "\n",
    "### Purpose\n",
    "This cell executes the **follow up prompts** defined for analyzing the model. These prompts can be added by the note book user in addition to the default prompts\n",
    "\n",
    "### What This Cell Does\n",
    "- Use the structured input file (e.g., `capella_model.yaml`).\n",
    "- Excutes the prompt defined in the cell.\n",
    "- Outputs the results directly in the notebook.\n",
    "\n",
    "### 🛠️ Instructions\n",
    "1. Ensure the `capella_model.yaml` file is generated and up-to-date.\n",
    "2. Run this cell to execute the default prompts.\n",
    "3. Review the output to verify the accuracy and relevance of the analysis.\n",
    "\n",
    "> 💡 **Tip:** Modify the promt to your needs."
   ]
  },
  {
   "cell_type": "code",
   "execution_count": 5,
   "id": "fab94bcf-5ea3-4d7d-89e8-508dcd603d71",
   "metadata": {},
   "outputs": [
    {
     "data": {
      "text/markdown": [
       "**Your prompt:** \n",
       "Generate a set of 20 system functional requirements for Control  Subsystem using the yaml and documents for reference do not stop for brevity, only if no new requirements can be noted.\n",
       "- Each requirment should be a tuple: (name, body, rationale).\n",
       "- The name shall be five or fewer words introducing the requirement.\n",
       "- The body shall be in the format of a shall statement, that is clear and concise. \n",
       "- The rationale should explain the source behind numeric requirement. \n",
       "- The response shall be formatted for cutting an pasting in to MS Word.\n",
       "- The name should be a heading format with no preceding number <generate heading>\n",
       "- The body and rationale should be in a paragraph with format <generated body text> Rationale: <generated rationale>\n",
       "Use yaml content and attached pdf documents to provide context to the requirements for this subsystem. \n"
      ],
      "text/plain": [
       "<IPython.core.display.Markdown object>"
      ]
     },
     "metadata": {},
     "output_type": "display_data"
    },
    {
     "data": {
      "text/html": [
       "\n",
       "<!DOCTYPE html>\n",
       "\n",
       "<html>\n",
       "<head>\n",
       "<title>Control Subsystem Functional Requirements</title>\n",
       "</head>\n",
       "<body>\n",
       "<h1>Data Storage Management</h1>\n",
       "<p>The Control Subsystem shall manage data storage efficiently, allowing for easy retrieval and backup. Rationale: This requirement ensures data integrity and accessibility, as outlined in the EBSD 300 Product Requirements Specification.</p>\n",
       "<h1>System Initialization</h1>\n",
       "<p>The Control Subsystem shall initialize all components upon startup to ensure readiness. Rationale: This ensures that all system components are operational from the start, as specified in the EBSD 300 Product Requirements Specification.</p>\n",
       "<h1>External Data Processing</h1>\n",
       "<p>The Control Subsystem shall process incoming external data in real-time. Rationale: This ensures timely data handling and system responsiveness, as outlined in the EBSD 300 Product Requirements Specification.</p>\n",
       "<h1>Warning System Activation</h1>\n",
       "<p>The Control Subsystem shall activate warning systems when predefined thresholds are exceeded. Rationale: This ensures user safety and system protection, as specified in the EBSD 300 Product Requirements Specification.</p>\n",
       "<h1>File Transfer Protocols</h1>\n",
       "<p>The Control Subsystem shall support multiple file transfer protocols, including USB and LAN. Rationale: This ensures versatile data transfer options, as outlined in the EBSD 300 Product Requirements Specification.</p>\n",
       "<h1>Communication Interface Support</h1>\n",
       "<p>The Control Subsystem shall support communication through USB interfaces. Rationale: This ensures basic communication capabilities, as specified in the EBSD 300 Product Requirements Specification.</p>\n",
       "<h1>Power Management</h1>\n",
       "<p>The Control Subsystem shall manage power consumption to not exceed 430 W. Rationale: This ensures energy efficiency and compliance with power specifications, as outlined in the EBSD 300 Product Requirements Specification.</p>\n",
       "<h1>Temperature Monitoring</h1>\n",
       "<p>The Control Subsystem shall continuously monitor internal temperatures to prevent overheating. Rationale: This ensures system reliability and longevity, as specified in the EBSD 300 Product Requirements Specification.</p>\n",
       "<h1>Pressure Adaptation</h1>\n",
       "<p>The Control Subsystem shall adapt to pressure changes within the specified range of 9.5 to 16.0 psia. Rationale: This ensures system functionality under varying pressure conditions, as outlined in the EBSD 300 Product Requirements Specification.</p>\n",
       "<h1>Humidity Control</h1>\n",
       "<p>The Control Subsystem shall maintain performance in environments with 30-90% relative humidity. Rationale: This ensures system reliability in different humidity conditions, as specified in the EBSD 300 Product Requirements Specification.</p>\n",
       "<h1>Vibration Resistance</h1>\n",
       "<p>The Control Subsystem shall resist vibrations up to 1g. Rationale: This ensures system stability in vibrational environments, as outlined in the EBSD 300 Product Requirements Specification.</p>\n",
       "<h1>Shock Absorption</h1>\n",
       "<p>The Control Subsystem shall absorb shocks up to 15g. Rationale: This ensures system durability under shock conditions, as specified in the EBSD 300 Product Requirements Specification.</p>\n",
       "<h1>Radiation Protection</h1>\n",
       "<p>The Control Subsystem shall protect against ionizing radiation as per SEE standards. Rationale: This ensures system reliability in radiation-prone environments, as outlined in the EBSD 300 Product Requirements Specification.</p>\n",
       "<h1>Oxygen Environment Operation</h1>\n",
       "<p>The Control Subsystem shall operate in enriched oxygen environments up to 30% concentration. Rationale: This ensures system functionality in specific atmospheric conditions, as specified in the EBSD 300 Product Requirements Specification.</p>\n",
       "<h1>Rear Panel Connectivity</h1>\n",
       "<p>The Control Subsystem shall provide connectivity through rear panel ports including Ethernet and USB. Rationale: This ensures comprehensive connectivity options, as outlined in the EBSD 300 Product Requirements Specification.</p>\n",
       "<h1>Front Panel Accessibility</h1>\n",
       "<p>The Control Subsystem shall provide easy access to front panel interfaces for user convenience. Rationale: This ensures user-friendly design and accessibility, as specified in the EBSD 300 Product Requirements Specification.</p>\n",
       "<h1>Design Customization</h1>\n",
       "<p>The Control Subsystem shall allow for design customization to meet specific user needs. Rationale: This ensures flexibility and adaptability in system design, as outlined in the EBSD 300 Product Requirements Specification.</p>\n",
       "<h1>Failure Detection</h1>\n",
       "<p>The Control Subsystem shall detect and report failures in real-time. Rationale: This ensures timely maintenance and system reliability, as specified in the EBSD 300 Product Requirements Specification.</p>\n",
       "<h1>Usability Enhancement</h1>\n",
       "<p>The Control Subsystem shall enhance usability through intuitive interface design. Rationale: This ensures ease of use and user satisfaction, as outlined in the EBSD 300 Product Requirements Specification.</p>\n",
       "<h1>Diagnostic Capabilities</h1>\n",
       "<p>The Control Subsystem shall provide diagnostic capabilities for system health monitoring. Rationale: This ensures proactive maintenance and system reliability, as specified in the EBSD 300 Product Requirements Specification.</p>\n",
       "</body>\n",
       "</html>\n"
      ],
      "text/plain": [
       "<IPython.core.display.HTML object>"
      ]
     },
     "metadata": {},
     "output_type": "display_data"
    },
    {
     "data": {
      "text/markdown": [
       "**Token Usage Info:**\n",
       "\n",
       "Tokens used: prompt=26431, completion=1061, total=27492"
      ],
      "text/plain": [
       "<IPython.core.display.Markdown object>"
      ]
     },
     "metadata": {},
     "output_type": "display_data"
    },
    {
     "data": {
      "text/markdown": [
       "**Your prompt:** \n",
       "Generate a set of 20 system functional requirements for the Thermal Current Sensing Subsystem using the yaml and documents for reference do not stop for brevity, only if no new requirements can be noted.\n",
       "- Each requirment should be a tuple: (name, body, rationale).\n",
       "- The name shall be five or fewer words introducing the requirement.\n",
       "- The body shall be in the format of a shall statement, that is clear and concise. \n",
       "- The rationale should explain the source behind numeric requirement. \n",
       "- The response shall be formatted for cutting an pasting in to MS Word.\n",
       "- The name should be a heading format with no preceding number <generate heading>\n",
       "- The body and rationale should be in a paragraph with format <generated body text> Rationale: <generated rationale>\n",
       "Use yaml content and attached pdf documents to provide context to the requirements for this subsystem. \n"
      ],
      "text/plain": [
       "<IPython.core.display.Markdown object>"
      ]
     },
     "metadata": {},
     "output_type": "display_data"
    },
    {
     "data": {
      "text/html": [
       "\n",
       "<!DOCTYPE html>\n",
       "\n",
       "<html>\n",
       "<head>\n",
       "<title>Thermal Current Sensing Subsystem Functional Requirements</title>\n",
       "</head>\n",
       "<body>\n",
       "<h1>Temperature Measurement Accuracy</h1>\n",
       "<p>The Thermal Current Sensing Subsystem shall measure temperature with an accuracy of ±0.1°C. Rationale: This ensures precise thermal data collection, as outlined in the Simcenter documentation for accurate thermal metrics.</p>\n",
       "<h1>Real-Time Data Processing</h1>\n",
       "<p>The Thermal Current Sensing Subsystem shall process temperature data in real-time. Rationale: This ensures timely monitoring and response to thermal changes, as specified in the Simcenter documentation.</p>\n",
       "<h1>Non-Destructive Testing</h1>\n",
       "<p>The Thermal Current Sensing Subsystem shall perform non-destructive thermal testing. Rationale: This ensures the integrity of the device under test, as outlined in the Simcenter documentation.</p>\n",
       "<h1>JEDEC Standard Compliance</h1>\n",
       "<p>The Thermal Current Sensing Subsystem shall comply with JEDEC 51 standards for thermal testing. Rationale: This ensures industry-standard compliance, as specified in the Simcenter documentation.</p>\n",
       "<h1>Thermal Transient Response</h1>\n",
       "<p>The Thermal Current Sensing Subsystem shall measure thermal transient response accurately. Rationale: This ensures detailed thermal analysis, as outlined in the Simcenter documentation.</p>\n",
       "<h1>Data Logging Capability</h1>\n",
       "<p>The Thermal Current Sensing Subsystem shall log temperature data for analysis and reporting. Rationale: This ensures comprehensive data collection for further analysis, as specified in the Simcenter documentation.</p>\n",
       "<h1>Automated Calibration</h1>\n",
       "<p>The Thermal Current Sensing Subsystem shall support automated calibration for accuracy. Rationale: This ensures high precision in thermal measurements, as outlined in the Simcenter documentation.</p>\n",
       "<h1>High-Volume Testing Support</h1>\n",
       "<p>The Thermal Current Sensing Subsystem shall support high-volume testing for production environments. Rationale: This ensures efficiency in mass production, as specified in the Simcenter documentation.</p>\n",
       "<h1>Thermal Impedance Profiling</h1>\n",
       "<p>The Thermal Current Sensing Subsystem shall generate thermal impedance profiles for components. Rationale: This ensures detailed thermal characterization, as outlined in the Simcenter documentation.</p>\n",
       "<h1>Integration with Simulation Models</h1>\n",
       "<p>The Thermal Current Sensing Subsystem shall integrate with thermal simulation models for enhanced accuracy. Rationale: This ensures comprehensive thermal analysis, as specified in the Simcenter documentation.</p>\n",
       "<h1>Power Cycling Test Support</h1>\n",
       "<p>The Thermal Current Sensing Subsystem shall support power cycling tests to assess component reliability. Rationale: This ensures system durability under operational conditions, as outlined in the Simcenter documentation.</p>\n",
       "<h1>Temperature Threshold Alerts</h1>\n",
       "<p>The Thermal Current Sensing Subsystem shall provide alerts when temperature thresholds are exceeded. Rationale: This ensures timely intervention to prevent overheating, as specified in the Simcenter documentation.</p>\n",
       "<h1>Data Interface Compatibility</h1>\n",
       "<p>The Thermal Current Sensing Subsystem shall be compatible with standard data interfaces for easy integration. Rationale: This ensures seamless data transfer and integration, as outlined in the Simcenter documentation.</p>\n",
       "<h1>Remote Monitoring Capability</h1>\n",
       "<p>The Thermal Current Sensing Subsystem shall support remote monitoring of thermal data. Rationale: This ensures flexibility and accessibility in data monitoring, as specified in the Simcenter documentation.</p>\n",
       "<h1>Energy Efficiency</h1>\n",
       "<p>The Thermal Current Sensing Subsystem shall operate with minimal power consumption. Rationale: This ensures energy efficiency and cost-effectiveness, as outlined in the Simcenter documentation.</p>\n",
       "<h1>Environmental Adaptability</h1>\n",
       "<p>The Thermal Current Sensing Subsystem shall adapt to varying environmental conditions without performance degradation. Rationale: This ensures reliability in diverse operating environments, as specified in the Simcenter documentation.</p>\n",
       "<h1>System Diagnostics</h1>\n",
       "<p>The Thermal Current Sensing Subsystem shall perform self-diagnostics to ensure operational integrity. Rationale: This ensures system reliability and reduces downtime, as outlined in the Simcenter documentation.</p>\n",
       "<h1>User-Friendly Interface</h1>\n",
       "<p>The Thermal Current Sensing Subsystem shall provide a user-friendly interface for easy operation. Rationale: This ensures ease of use and user satisfaction, as specified in the Simcenter documentation.</p>\n",
       "<h1>Data Security</h1>\n",
       "<p>The Thermal Current Sensing Subsystem shall ensure data security during transmission and storage. Rationale: This ensures the protection of sensitive thermal data, as outlined in the Simcenter documentation.</p>\n",
       "<h1>Scalability</h1>\n",
       "<p>The Thermal Current Sensing Subsystem shall be scalable to accommodate future expansion needs. Rationale: This ensures long-term usability and adaptability, as specified in the Simcenter documentation.</p>\n",
       "</body>\n",
       "</html>\n"
      ],
      "text/plain": [
       "<IPython.core.display.HTML object>"
      ]
     },
     "metadata": {},
     "output_type": "display_data"
    },
    {
     "data": {
      "text/markdown": [
       "**Token Usage Info:**\n",
       "\n",
       "Tokens used: prompt=27677, completion=1015, total=28692"
      ],
      "text/plain": [
       "<IPython.core.display.Markdown object>"
      ]
     },
     "metadata": {},
     "output_type": "display_data"
    }
   ],
   "source": [
    "prompt = \"\"\"\n",
    "Generate a set of 20 system functional requirements for Control  Subsystem using the yaml and documents for reference do not stop for brevity, only if no new requirements can be noted.\n",
    "- Each requirment should be a tuple: (name, body, rationale).\n",
    "- The name shall be five or fewer words introducing the requirement.\n",
    "- The body shall be in the format of a shall statement, that is clear and concise. \n",
    "- The rationale should explain the source behind numeric requirement. \n",
    "- The response shall be formatted for cutting an pasting in to MS Word.\n",
    "- The name should be a heading format with no preceding number <generate heading>\n",
    "- The body and rationale should be in a paragraph with format <generated body text> Rationale: <generated rationale>\n",
    "Use yaml content and attached pdf documents to provide context to the requirements for this subsystem. \n",
    "\"\"\"\n",
    "\n",
    "\n",
    "\n",
    "\n",
    "analyzer.follow_up_prompt(prompt)\n",
    "chatgpt_response = analyzer.get_response()\n",
    "\n",
    "prompt = \"\"\"\n",
    "Generate a set of 20 system functional requirements for the Thermal Current Sensing Subsystem using the yaml and documents for reference do not stop for brevity, only if no new requirements can be noted.\n",
    "- Each requirment should be a tuple: (name, body, rationale).\n",
    "- The name shall be five or fewer words introducing the requirement.\n",
    "- The body shall be in the format of a shall statement, that is clear and concise. \n",
    "- The rationale should explain the source behind numeric requirement. \n",
    "- The response shall be formatted for cutting an pasting in to MS Word.\n",
    "- The name should be a heading format with no preceding number <generate heading>\n",
    "- The body and rationale should be in a paragraph with format <generated body text> Rationale: <generated rationale>\n",
    "Use yaml content and attached pdf documents to provide context to the requirements for this subsystem. \n",
    "\"\"\"\n",
    "\n",
    "\n",
    "\n",
    "\n",
    "analyzer.follow_up_prompt(prompt)\n",
    "chatgpt_response = analyzer.get_response()\n"
   ]
  },
  {
   "cell_type": "code",
   "execution_count": 6,
   "id": "ac1d370a-fcf4-4084-9064-f5e11a03a641",
   "metadata": {},
   "outputs": [
    {
     "data": {
      "text/html": [
       "\n",
       "<!DOCTYPE html>\n",
       "\n",
       "<html>\n",
       "<head>\n",
       "<title>Thermal Current Sensing Subsystem Functional Requirements</title>\n",
       "</head>\n",
       "<body>\n",
       "<h1>Temperature Measurement Accuracy</h1>\n",
       "<p>The Thermal Current Sensing Subsystem shall measure temperature with an accuracy of ±0.1°C. Rationale: This ensures precise thermal data collection, as outlined in the Simcenter documentation for accurate thermal metrics.</p>\n",
       "<h1>Real-Time Data Processing</h1>\n",
       "<p>The Thermal Current Sensing Subsystem shall process temperature data in real-time. Rationale: This ensures timely monitoring and response to thermal changes, as specified in the Simcenter documentation.</p>\n",
       "<h1>Non-Destructive Testing</h1>\n",
       "<p>The Thermal Current Sensing Subsystem shall perform non-destructive thermal testing. Rationale: This ensures the integrity of the device under test, as outlined in the Simcenter documentation.</p>\n",
       "<h1>JEDEC Standard Compliance</h1>\n",
       "<p>The Thermal Current Sensing Subsystem shall comply with JEDEC 51 standards for thermal testing. Rationale: This ensures industry-standard compliance, as specified in the Simcenter documentation.</p>\n",
       "<h1>Thermal Transient Response</h1>\n",
       "<p>The Thermal Current Sensing Subsystem shall measure thermal transient response accurately. Rationale: This ensures detailed thermal analysis, as outlined in the Simcenter documentation.</p>\n",
       "<h1>Data Logging Capability</h1>\n",
       "<p>The Thermal Current Sensing Subsystem shall log temperature data for analysis and reporting. Rationale: This ensures comprehensive data collection for further analysis, as specified in the Simcenter documentation.</p>\n",
       "<h1>Automated Calibration</h1>\n",
       "<p>The Thermal Current Sensing Subsystem shall support automated calibration for accuracy. Rationale: This ensures high precision in thermal measurements, as outlined in the Simcenter documentation.</p>\n",
       "<h1>High-Volume Testing Support</h1>\n",
       "<p>The Thermal Current Sensing Subsystem shall support high-volume testing for production environments. Rationale: This ensures efficiency in mass production, as specified in the Simcenter documentation.</p>\n",
       "<h1>Thermal Impedance Profiling</h1>\n",
       "<p>The Thermal Current Sensing Subsystem shall generate thermal impedance profiles for components. Rationale: This ensures detailed thermal characterization, as outlined in the Simcenter documentation.</p>\n",
       "<h1>Integration with Simulation Models</h1>\n",
       "<p>The Thermal Current Sensing Subsystem shall integrate with thermal simulation models for enhanced accuracy. Rationale: This ensures comprehensive thermal analysis, as specified in the Simcenter documentation.</p>\n",
       "<h1>Power Cycling Test Support</h1>\n",
       "<p>The Thermal Current Sensing Subsystem shall support power cycling tests to assess component reliability. Rationale: This ensures system durability under operational conditions, as outlined in the Simcenter documentation.</p>\n",
       "<h1>Temperature Threshold Alerts</h1>\n",
       "<p>The Thermal Current Sensing Subsystem shall provide alerts when temperature thresholds are exceeded. Rationale: This ensures timely intervention to prevent overheating, as specified in the Simcenter documentation.</p>\n",
       "<h1>Data Interface Compatibility</h1>\n",
       "<p>The Thermal Current Sensing Subsystem shall be compatible with standard data interfaces for easy integration. Rationale: This ensures seamless data transfer and integration, as outlined in the Simcenter documentation.</p>\n",
       "<h1>Remote Monitoring Capability</h1>\n",
       "<p>The Thermal Current Sensing Subsystem shall support remote monitoring of thermal data. Rationale: This ensures flexibility and accessibility in data monitoring, as specified in the Simcenter documentation.</p>\n",
       "<h1>Energy Efficiency</h1>\n",
       "<p>The Thermal Current Sensing Subsystem shall operate with minimal power consumption. Rationale: This ensures energy efficiency and cost-effectiveness, as outlined in the Simcenter documentation.</p>\n",
       "<h1>Environmental Adaptability</h1>\n",
       "<p>The Thermal Current Sensing Subsystem shall adapt to varying environmental conditions without performance degradation. Rationale: This ensures reliability in diverse operating environments, as specified in the Simcenter documentation.</p>\n",
       "<h1>System Diagnostics</h1>\n",
       "<p>The Thermal Current Sensing Subsystem shall perform self-diagnostics to ensure operational integrity. Rationale: This ensures system reliability and reduces downtime, as outlined in the Simcenter documentation.</p>\n",
       "<h1>User-Friendly Interface</h1>\n",
       "<p>The Thermal Current Sensing Subsystem shall provide a user-friendly interface for easy operation. Rationale: This ensures ease of use and user satisfaction, as specified in the Simcenter documentation.</p>\n",
       "<h1>Data Security</h1>\n",
       "<p>The Thermal Current Sensing Subsystem shall ensure data security during transmission and storage. Rationale: This ensures the protection of sensitive thermal data, as outlined in the Simcenter documentation.</p>\n",
       "<h1>Scalability</h1>\n",
       "<p>The Thermal Current Sensing Subsystem shall be scalable to accommodate future expansion needs. Rationale: This ensures long-term usability and adaptability, as specified in the Simcenter documentation.</p>\n",
       "</body>\n",
       "</html>\n"
      ],
      "text/plain": [
       "<IPython.core.display.HTML object>"
      ]
     },
     "metadata": {},
     "output_type": "display_data"
    },
    {
     "data": {
      "text/markdown": [
       "**Token Usage Info:**\n",
       "\n",
       "Tokens used: prompt=28696, completion=1015, total=29711"
      ],
      "text/plain": [
       "<IPython.core.display.Markdown object>"
      ]
     },
     "metadata": {},
     "output_type": "display_data"
    },
    {
     "data": {
      "text/markdown": [
       "**Your prompt:** \n",
       "Generate a set of 20 system functional requirements for the Power Driver Subsystem using the yaml and documents for reference do not stop for brevity, only if no new requirements can be noted.\n",
       "- Each requirment should be a tuple: (name, body, rationale).\n",
       "- The name shall be five or fewer words introducing the requirement.\n",
       "- The body shall be in the format of a shall statement, that is clear and concise. \n",
       "- The rationale should explain the source behind numeric requirement. \n",
       "- The response shall be formatted for cutting an pasting in to MS Word.\n",
       "- The name should be a heading format with no preceding number <generate heading>\n",
       "- The body and rationale should be in a paragraph with format <generated body text> Rationale: <generated rationale>\n",
       "Use yaml content and attached pdf documents to provide context to the requirements for this subsystem. \n"
      ],
      "text/plain": [
       "<IPython.core.display.Markdown object>"
      ]
     },
     "metadata": {},
     "output_type": "display_data"
    },
    {
     "data": {
      "text/html": [
       "\n",
       "<!DOCTYPE html>\n",
       "\n",
       "<html>\n",
       "<head>\n",
       "<title>Power Driver Subsystem Functional Requirements</title>\n",
       "</head>\n",
       "<body>\n",
       "<h1>Voltage Regulation</h1>\n",
       "<p>The Power Driver Subsystem shall regulate output voltage within ±5% of the specified value. Rationale: This ensures stable power delivery to connected components, as outlined in the EBSD 300 Product Requirements Specification.</p>\n",
       "<h1>Current Limiting</h1>\n",
       "<p>The Power Driver Subsystem shall limit output current to prevent overcurrent conditions. Rationale: This protects the system and connected components from damage, as specified in the EBSD 300 Product Requirements Specification.</p>\n",
       "<h1>Thermal Protection</h1>\n",
       "<p>The Power Driver Subsystem shall include thermal protection to prevent overheating. Rationale: This ensures system reliability and longevity, as outlined in the EBSD 300 Product Requirements Specification.</p>\n",
       "<h1>Short Circuit Protection</h1>\n",
       "<p>The Power Driver Subsystem shall provide short circuit protection to prevent damage. Rationale: This ensures system safety and integrity, as specified in the EBSD 300 Product Requirements Specification.</p>\n",
       "<h1>Power Cycling Capability</h1>\n",
       "<p>The Power Driver Subsystem shall support power cycling tests to assess component reliability. Rationale: This ensures system durability under operational conditions, as outlined in the Simcenter documentation.</p>\n",
       "<h1>Efficiency Optimization</h1>\n",
       "<p>The Power Driver Subsystem shall operate with an efficiency of at least 90%. Rationale: This ensures energy efficiency and cost-effectiveness, as specified in the Simcenter documentation.</p>\n",
       "<h1>Remote Control Support</h1>\n",
       "<p>The Power Driver Subsystem shall support remote control for power management. Rationale: This ensures flexibility and accessibility in power management, as outlined in the Simcenter documentation.</p>\n",
       "<h1>Load Regulation</h1>\n",
       "<p>The Power Driver Subsystem shall maintain load regulation within ±2% under varying load conditions. Rationale: This ensures consistent power delivery, as specified in the EBSD 300 Product Requirements Specification.</p>\n",
       "<h1>Startup Sequence Control</h1>\n",
       "<p>The Power Driver Subsystem shall control the startup sequence to prevent inrush current. Rationale: This protects the system from potential damage during startup, as outlined in the EBSD 300 Product Requirements Specification.</p>\n",
       "<h1>Overvoltage Protection</h1>\n",
       "<p>The Power Driver Subsystem shall provide overvoltage protection to prevent damage. Rationale: This ensures system safety and integrity, as specified in the EBSD 300 Product Requirements Specification.</p>\n",
       "<h1>Fault Detection</h1>\n",
       "<p>The Power Driver Subsystem shall detect and report faults in real-time. Rationale: This ensures timely maintenance and system reliability, as outlined in the EBSD 300 Product Requirements Specification.</p>\n",
       "<h1>Data Logging Capability</h1>\n",
       "<p>The Power Driver Subsystem shall log power data for analysis and reporting. Rationale: This ensures comprehensive data collection for further analysis, as specified in the Simcenter documentation.</p>\n",
       "<h1>Scalability</h1>\n",
       "<p>The Power Driver Subsystem shall be scalable to accommodate future expansion needs. Rationale: This ensures long-term usability and adaptability, as outlined in the Simcenter documentation.</p>\n",
       "<h1>Energy Storage Integration</h1>\n",
       "<p>The Power Driver Subsystem shall integrate with energy storage systems for backup power. Rationale: This ensures continuous power supply during outages, as specified in the Simcenter documentation.</p>\n",
       "<h1>Environmental Adaptability</h1>\n",
       "<p>The Power Driver Subsystem shall adapt to varying environmental conditions without performance degradation. Rationale: This ensures reliability in diverse operating environments, as outlined in the Simcenter documentation.</p>\n",
       "<h1>User-Friendly Interface</h1>\n",
       "<p>The Power Driver Subsystem shall provide a user-friendly interface for easy operation. Rationale: This ensures ease of use and user satisfaction, as specified in the Simcenter documentation.</p>\n",
       "<h1>Data Security</h1>\n",
       "<p>The Power Driver Subsystem shall ensure data security during transmission and storage. Rationale: This ensures the protection of sensitive power data, as outlined in the Simcenter documentation.</p>\n",
       "<h1>System Diagnostics</h1>\n",
       "<p>The Power Driver Subsystem shall perform self-diagnostics to ensure operational integrity. Rationale: This ensures system reliability and reduces downtime, as specified in the Simcenter documentation.</p>\n",
       "<h1>Communication Interface Compatibility</h1>\n",
       "<p>The Power Driver Subsystem shall be compatible with standard communication interfaces for easy integration. Rationale: This ensures seamless data transfer and integration, as outlined in the Simcenter documentation.</p>\n",
       "<h1>Redundancy Support</h1>\n",
       "<p>The Power Driver Subsystem shall support redundancy to ensure continuous operation. Rationale: This ensures system reliability and availability, as specified in the Simcenter documentation.</p>\n",
       "</body>\n",
       "</html>\n"
      ],
      "text/plain": [
       "<IPython.core.display.HTML object>"
      ]
     },
     "metadata": {},
     "output_type": "display_data"
    },
    {
     "data": {
      "text/markdown": [
       "**Token Usage Info:**\n",
       "\n",
       "Tokens used: prompt=29894, completion=1005, total=30899"
      ],
      "text/plain": [
       "<IPython.core.display.Markdown object>"
      ]
     },
     "metadata": {},
     "output_type": "display_data"
    },
    {
     "data": {
      "text/markdown": [
       "**Your prompt:** \n",
       "Generate a set of 20 system functional requirements for the Chassis Subsystem using the yaml and documents for reference do not stop for brevity, only if no new requirements can be noted.\n",
       "- Each requirment should be a tuple: (name, body, rationale).\n",
       "- The name shall be five or fewer words introducing the requirement.\n",
       "- The body shall be in the format of a shall statement, that is clear and concise. \n",
       "- The rationale should explain the source behind numeric requirement. \n",
       "- The response shall be formatted for cutting an pasting in to MS Word.\n",
       "- The name should be a heading format with no preceding number <generate heading>\n",
       "- The body and rationale should be in a paragraph with format <generated body text> Rationale: <generated rationale>\n",
       "Use yaml content and attached pdf documents to provide context to the requirements for this subsystem. \n"
      ],
      "text/plain": [
       "<IPython.core.display.Markdown object>"
      ]
     },
     "metadata": {},
     "output_type": "display_data"
    },
    {
     "data": {
      "text/html": [
       "\n",
       "<!DOCTYPE html>\n",
       "\n",
       "<html>\n",
       "<head>\n",
       "<title>Chassis Subsystem Functional Requirements</title>\n",
       "</head>\n",
       "<body>\n",
       "<h1>Structural Integrity</h1>\n",
       "<p>The Chassis Subsystem shall maintain structural integrity under all specified operating conditions. Rationale: This ensures the durability and safety of the system, as outlined in the EBSD 300 Product Requirements Specification.</p>\n",
       "<h1>Modular Design</h1>\n",
       "<p>The Chassis Subsystem shall support a modular design to accommodate up to 10 plug-in units. Rationale: This ensures flexibility and scalability, as specified in the EBSD 300 Product Requirements Specification.</p>\n",
       "<h1>Heat Dissipation</h1>\n",
       "<p>The Chassis Subsystem shall effectively dissipate heat to maintain optimal operating temperatures. Rationale: This ensures system reliability and performance, as outlined in the EBSD 300 Product Requirements Specification.</p>\n",
       "<h1>Vibration Resistance</h1>\n",
       "<p>The Chassis Subsystem shall resist vibrations up to 1g. Rationale: This ensures system stability in vibrational environments, as specified in the EBSD 300 Product Requirements Specification.</p>\n",
       "<h1>Shock Absorption</h1>\n",
       "<p>The Chassis Subsystem shall absorb shocks up to 15g. Rationale: This ensures system durability under shock conditions, as outlined in the EBSD 300 Product Requirements Specification.</p>\n",
       "<h1>EMI Shielding</h1>\n",
       "<p>The Chassis Subsystem shall provide electromagnetic interference (EMI) shielding to protect internal components. Rationale: This ensures system integrity and performance, as specified in the EBSD 300 Product Requirements Specification.</p>\n",
       "<h1>Corrosion Resistance</h1>\n",
       "<p>The Chassis Subsystem shall be resistant to corrosion in specified environmental conditions. Rationale: This ensures long-term durability and reliability, as outlined in the EBSD 300 Product Requirements Specification.</p>\n",
       "<h1>Weight Optimization</h1>\n",
       "<p>The Chassis Subsystem shall be designed to minimize weight while maintaining structural integrity. Rationale: This ensures ease of handling and installation, as specified in the EBSD 300 Product Requirements Specification.</p>\n",
       "<h1>Mounting Flexibility</h1>\n",
       "<p>The Chassis Subsystem shall support flexible mounting options for various installation environments. Rationale: This ensures adaptability to different use cases, as outlined in the EBSD 300 Product Requirements Specification.</p>\n",
       "<h1>Cooling System Integration</h1>\n",
       "<p>The Chassis Subsystem shall integrate with the cooling system to maintain optimal temperatures. Rationale: This ensures system reliability and performance, as specified in the EBSD 300 Product Requirements Specification.</p>\n",
       "<h1>Access Panels</h1>\n",
       "<p>The Chassis Subsystem shall include access panels for easy maintenance and component replacement. Rationale: This ensures ease of maintenance and reduces downtime, as outlined in the EBSD 300 Product Requirements Specification.</p>\n",
       "<h1>Color Scheme</h1>\n",
       "<p>The Chassis Subsystem shall adhere to Siemens corporate color scheme for brand consistency. Rationale: This ensures brand recognition and consistency, as specified in the EBSD 300 Product Requirements Specification.</p>\n",
       "<h1>Environmental Adaptability</h1>\n",
       "<p>The Chassis Subsystem shall adapt to varying environmental conditions without performance degradation. Rationale: This ensures reliability in diverse operating environments, as outlined in the EBSD 300 Product Requirements Specification.</p>\n",
       "<h1>Noise Reduction</h1>\n",
       "<p>The Chassis Subsystem shall incorporate noise reduction features to minimize operational noise. Rationale: This ensures a quieter operating environment, as specified in the EBSD 300 Product Requirements Specification.</p>\n",
       "<h1>Security Features</h1>\n",
       "<p>The Chassis Subsystem shall include security features to prevent unauthorized access. Rationale: This ensures the protection of internal components and data, as outlined in the EBSD 300 Product Requirements Specification.</p>\n",
       "<h1>Grounding Provisions</h1>\n",
       "<p>The Chassis Subsystem shall include grounding provisions to ensure electrical safety. Rationale: This ensures compliance with safety standards, as specified in the EBSD 300 Product Requirements Specification.</p>\n",
       "<h1>Labeling and Identification</h1>\n",
       "<p>The Chassis Subsystem shall include clear labeling for identification and safety information. Rationale: This ensures ease of use and compliance with safety regulations, as outlined in the EBSD 300 Product Requirements Specification.</p>\n",
       "<h1>Material Selection</h1>\n",
       "<p>The Chassis Subsystem shall use materials that meet specified performance and safety standards. Rationale: This ensures durability and compliance with industry standards, as specified in the EBSD 300 Product Requirements Specification.</p>\n",
       "<h1>Integration with Control Systems</h1>\n",
       "<p>The Chassis Subsystem shall integrate seamlessly with control systems for coordinated operation. Rationale: This ensures system efficiency and performance, as outlined in the EBSD 300 Product Requirements Specification.</p>\n",
       "<h1>Redundancy Support</h1>\n",
       "<p>The Chassis Subsystem shall support redundancy to ensure continuous operation. Rationale: This ensures system reliability and availability, as specified in the EBSD 300 Product Requirements Specification.</p>\n",
       "</body>\n",
       "</html>\n"
      ],
      "text/plain": [
       "<IPython.core.display.HTML object>"
      ]
     },
     "metadata": {},
     "output_type": "display_data"
    },
    {
     "data": {
      "text/markdown": [
       "**Token Usage Info:**\n",
       "\n",
       "Tokens used: prompt=31082, completion=1064, total=32146"
      ],
      "text/plain": [
       "<IPython.core.display.Markdown object>"
      ]
     },
     "metadata": {},
     "output_type": "display_data"
    },
    {
     "data": {
      "text/markdown": [
       "**Your prompt:** \n",
       "Generate a set of 20 system functional requirements for Power Subsystem using the yaml and documents for reference do not stop for brevity, only if no new requirements can be noted.\n",
       "- Each requirment should be a tuple: (name, body, rationale).\n",
       "- The name shall be five or fewer words introducing the requirement.\n",
       "- The body shall be in the format of a shall statement, that is clear and concise. \n",
       "- The rationale should explain the source behind numeric requirement. \n",
       "- The response shall be formatted for cutting an pasting in to MS Word.\n",
       "- The name should be a heading fromat <generate heading>\n",
       "- The body and rationale should be in a paragraph with format <generated body text> Rationale: <generated rationale>\n",
       "Use yaml content and attached pdf documents to provide context to the requirements for this subsystem. \n"
      ],
      "text/plain": [
       "<IPython.core.display.Markdown object>"
      ]
     },
     "metadata": {},
     "output_type": "display_data"
    },
    {
     "data": {
      "text/html": [
       "\n",
       "<!DOCTYPE html>\n",
       "\n",
       "<html>\n",
       "<head>\n",
       "<title>Power Subsystem Functional Requirements</title>\n",
       "</head>\n",
       "<body>\n",
       "<h1>Voltage Regulation</h1>\n",
       "<p>The Power Subsystem shall regulate output voltage within ±5% of the specified value. Rationale: This ensures stable power delivery to connected components, as outlined in the EBSD 300 Product Requirements Specification.</p>\n",
       "<h1>Current Limiting</h1>\n",
       "<p>The Power Subsystem shall limit output current to prevent overcurrent conditions. Rationale: This protects the system and connected components from damage, as specified in the EBSD 300 Product Requirements Specification.</p>\n",
       "<h1>Thermal Protection</h1>\n",
       "<p>The Power Subsystem shall include thermal protection to prevent overheating. Rationale: This ensures system reliability and longevity, as outlined in the EBSD 300 Product Requirements Specification.</p>\n",
       "<h1>Short Circuit Protection</h1>\n",
       "<p>The Power Subsystem shall provide short circuit protection to prevent damage. Rationale: This ensures system safety and integrity, as specified in the EBSD 300 Product Requirements Specification.</p>\n",
       "<h1>Power Cycling Capability</h1>\n",
       "<p>The Power Subsystem shall support power cycling tests to assess component reliability. Rationale: This ensures system durability under operational conditions, as outlined in the Simcenter documentation.</p>\n",
       "<h1>Efficiency Optimization</h1>\n",
       "<p>The Power Subsystem shall operate with an efficiency of at least 90%. Rationale: This ensures energy efficiency and cost-effectiveness, as specified in the Simcenter documentation.</p>\n",
       "<h1>Remote Control Support</h1>\n",
       "<p>The Power Subsystem shall support remote control for power management. Rationale: This ensures flexibility and accessibility in power management, as outlined in the Simcenter documentation.</p>\n",
       "<h1>Load Regulation</h1>\n",
       "<p>The Power Subsystem shall maintain load regulation within ±2% under varying load conditions. Rationale: This ensures consistent power delivery, as specified in the EBSD 300 Product Requirements Specification.</p>\n",
       "<h1>Startup Sequence Control</h1>\n",
       "<p>The Power Subsystem shall control the startup sequence to prevent inrush current. Rationale: This protects the system from potential damage during startup, as outlined in the EBSD 300 Product Requirements Specification.</p>\n",
       "<h1>Overvoltage Protection</h1>\n",
       "<p>The Power Subsystem shall provide overvoltage protection to prevent damage. Rationale: This ensures system safety and integrity, as specified in the EBSD 300 Product Requirements Specification.</p>\n",
       "<h1>Fault Detection</h1>\n",
       "<p>The Power Subsystem shall detect and report faults in real-time. Rationale: This ensures timely maintenance and system reliability, as outlined in the EBSD 300 Product Requirements Specification.</p>\n",
       "<h1>Data Logging Capability</h1>\n",
       "<p>The Power Subsystem shall log power data for analysis and reporting. Rationale: This ensures comprehensive data collection for further analysis, as specified in the Simcenter documentation.</p>\n",
       "<h1>Scalability</h1>\n",
       "<p>The Power Subsystem shall be scalable to accommodate future expansion needs. Rationale: This ensures long-term usability and adaptability, as outlined in the Simcenter documentation.</p>\n",
       "<h1>Energy Storage Integration</h1>\n",
       "<p>The Power Subsystem shall integrate with energy storage systems for backup power. Rationale: This ensures continuous power supply during outages, as specified in the Simcenter documentation.</p>\n",
       "<h1>Environmental Adaptability</h1>\n",
       "<p>The Power Subsystem shall adapt to varying environmental conditions without performance degradation. Rationale: This ensures reliability in diverse operating environments, as outlined in the Simcenter documentation.</p>\n",
       "<h1>User-Friendly Interface</h1>\n",
       "<p>The Power Subsystem shall provide a user-friendly interface for easy operation. Rationale: This ensures ease of use and user satisfaction, as specified in the Simcenter documentation.</p>\n",
       "<h1>Data Security</h1>\n",
       "<p>The Power Subsystem shall ensure data security during transmission and storage. Rationale: This ensures the protection of sensitive power data, as outlined in the Simcenter documentation.</p>\n",
       "<h1>System Diagnostics</h1>\n",
       "<p>The Power Subsystem shall perform self-diagnostics to ensure operational integrity. Rationale: This ensures system reliability and reduces downtime, as specified in the Simcenter documentation.</p>\n",
       "<h1>Communication Interface Compatibility</h1>\n",
       "<p>The Power Subsystem shall be compatible with standard communication interfaces for easy integration. Rationale: This ensures seamless data transfer and integration, as outlined in the Simcenter documentation.</p>\n",
       "<h1>Redundancy Support</h1>\n",
       "<p>The Power Subsystem shall support redundancy to ensure continuous operation. Rationale: This ensures system reliability and availability, as specified in the Simcenter documentation.</p>\n",
       "</body>\n",
       "</html>\n"
      ],
      "text/plain": [
       "<IPython.core.display.HTML object>"
      ]
     },
     "metadata": {},
     "output_type": "display_data"
    },
    {
     "data": {
      "text/markdown": [
       "**Token Usage Info:**\n",
       "\n",
       "Tokens used: prompt=32324, completion=984, total=33308"
      ],
      "text/plain": [
       "<IPython.core.display.Markdown object>"
      ]
     },
     "metadata": {},
     "output_type": "display_data"
    }
   ],
   "source": [
    "\n",
    "\n",
    "\n",
    "prompt = \"\"\"\n",
    "Generate a set of 20 system functional requirements for the Power Driver Subsystem using the yaml and documents for reference do not stop for brevity, only if no new requirements can be noted.\n",
    "- Each requirment should be a tuple: (name, body, rationale).\n",
    "- The name shall be five or fewer words introducing the requirement.\n",
    "- The body shall be in the format of a shall statement, that is clear and concise. \n",
    "- The rationale should explain the source behind numeric requirement. \n",
    "- The response shall be formatted for cutting an pasting in to MS Word.\n",
    "- The name should be a heading format with no preceding number <generate heading>\n",
    "- The body and rationale should be in a paragraph with format <generated body text> Rationale: <generated rationale>\n",
    "Use yaml content and attached pdf documents to provide context to the requirements for this subsystem. \n",
    "\"\"\"\n",
    "\n",
    "\n",
    "\n",
    "analyzer.follow_up_prompt(prompt)\n",
    "chatgpt_response = analyzer.get_response()\n",
    "\n",
    "\n",
    "\n",
    "prompt = \"\"\"\n",
    "Generate a set of 20 system functional requirements for the Chassis Subsystem using the yaml and documents for reference do not stop for brevity, only if no new requirements can be noted.\n",
    "- Each requirment should be a tuple: (name, body, rationale).\n",
    "- The name shall be five or fewer words introducing the requirement.\n",
    "- The body shall be in the format of a shall statement, that is clear and concise. \n",
    "- The rationale should explain the source behind numeric requirement. \n",
    "- The response shall be formatted for cutting an pasting in to MS Word.\n",
    "- The name should be a heading format with no preceding number <generate heading>\n",
    "- The body and rationale should be in a paragraph with format <generated body text> Rationale: <generated rationale>\n",
    "Use yaml content and attached pdf documents to provide context to the requirements for this subsystem. \n",
    "\"\"\"\n",
    "\n",
    "\n",
    "\n",
    "\n",
    "\n",
    "analyzer.follow_up_prompt(prompt)\n",
    "chatgpt_response = analyzer.get_response()\n",
    "\n",
    "\n",
    "prompt = \"\"\"\n",
    "Generate a set of 20 system functional requirements for Power Subsystem using the yaml and documents for reference do not stop for brevity, only if no new requirements can be noted.\n",
    "- Each requirment should be a tuple: (name, body, rationale).\n",
    "- The name shall be five or fewer words introducing the requirement.\n",
    "- The body shall be in the format of a shall statement, that is clear and concise. \n",
    "- The rationale should explain the source behind numeric requirement. \n",
    "- The response shall be formatted for cutting an pasting in to MS Word.\n",
    "- The name should be a heading fromat <generate heading>\n",
    "- The body and rationale should be in a paragraph with format <generated body text> Rationale: <generated rationale>\n",
    "Use yaml content and attached pdf documents to provide context to the requirements for this subsystem. \n",
    "\"\"\"\n",
    "\n",
    "\n",
    "\n",
    "\n",
    "analyzer.follow_up_prompt(prompt)\n",
    "chatgpt_response = analyzer.get_response()\n"
   ]
  },
  {
   "cell_type": "code",
   "execution_count": 8,
   "id": "57dea895-123c-4c7f-b386-89510fcfcd9d",
   "metadata": {},
   "outputs": [
    {
     "data": {
      "text/markdown": [
       "**Your prompt:** \n",
       "Generate a set of 20 system functional requirements for the General IO Subsystem using the yaml and documents for reference do not stop for brevity, only if no new requirements can be noted.\n",
       "- Each requirment should be a tuple: (name, body, rationale).\n",
       "- The name shall be five or fewer words introducing the requirement.\n",
       "- The body shall be in the format of a shall statement, that is clear and concise. \n",
       "- The rationale should explain the source behind numeric requirement. \n",
       "- The response shall be formatted for cutting an pasting in to MS Word.\n",
       "- The name should be a heading format with no preceding number <generate heading>\n",
       "- The body and rationale should be in a paragraph with format <generated body text> Rationale: <generated rationale>\n",
       "Use yaml content and attached pdf documents to provide context to the requirements for this subsystem. \n"
      ],
      "text/plain": [
       "<IPython.core.display.Markdown object>"
      ]
     },
     "metadata": {},
     "output_type": "display_data"
    },
    {
     "data": {
      "text/html": [
       "\n",
       "<!DOCTYPE html>\n",
       "\n",
       "<html>\n",
       "<head>\n",
       "<title>General IO Subsystem Functional Requirements</title>\n",
       "</head>\n",
       "<body>\n",
       "<h1>Data Transfer Rate</h1>\n",
       "<p>The General IO Subsystem shall support a data transfer rate of up to 1 Gbps. Rationale: This ensures efficient data handling and meets the connectivity requirements outlined in the EBSD 300 Product Requirements Specification.</p>\n",
       "<h1>USB Port Support</h1>\n",
       "<p>The General IO Subsystem shall include at least two USB 2.0 ports. Rationale: This provides necessary connectivity options for peripheral devices, as specified in the EBSD 300 Product Requirements Specification.</p>\n",
       "<h1>Ethernet Connectivity</h1>\n",
       "<p>The General IO Subsystem shall include a Gigabit Ethernet port for network connectivity. Rationale: This ensures high-speed network access, as outlined in the EBSD 300 Product Requirements Specification.</p>\n",
       "<h1>RS232 Interface</h1>\n",
       "<p>The General IO Subsystem shall include three RS232 ports for serial communication. Rationale: This provides compatibility with legacy systems, as specified in the EBSD 300 Product Requirements Specification.</p>\n",
       "<h1>RS422/485 Support</h1>\n",
       "<p>The General IO Subsystem shall include one RS422 or RS485 port for industrial communication. Rationale: This ensures compatibility with industrial communication standards, as outlined in the EBSD 300 Product Requirements Specification.</p>\n",
       "<h1>CAN Bus Connectivity</h1>\n",
       "<p>The General IO Subsystem shall include five CAN bus connections for automotive applications. Rationale: This ensures compatibility with automotive communication standards, as specified in the EBSD 300 Product Requirements Specification.</p>\n",
       "<h1>Fiber Optic Interface</h1>\n",
       "<p>The General IO Subsystem shall include a fiber optic RX/TX port for high-speed data transfer. Rationale: This ensures high-speed and secure data transmission, as outlined in the EBSD 300 Product Requirements Specification.</p>\n",
       "<h1>28-Pin I/O Interface</h1>\n",
       "<p>The General IO Subsystem shall include a 28-pin I/O interface for custom applications. Rationale: This provides flexibility for custom connectivity needs, as specified in the EBSD 300 Product Requirements Specification.</p>\n",
       "<h1>Hot-Swappable Ports</h1>\n",
       "<p>The General IO Subsystem shall support hot-swappable ports for easy maintenance. Rationale: This ensures minimal downtime during maintenance, as outlined in the EBSD 300 Product Requirements Specification.</p>\n",
       "<h1>Data Security</h1>\n",
       "<p>The General IO Subsystem shall ensure data security during transmission and storage. Rationale: This protects sensitive data from unauthorized access, as specified in the Simcenter documentation.</p>\n",
       "<h1>Remote Access Capability</h1>\n",
       "<p>The General IO Subsystem shall support remote access for monitoring and control. Rationale: This ensures flexibility and accessibility, as outlined in the Simcenter documentation.</p>\n",
       "<h1>Environmental Adaptability</h1>\n",
       "<p>The General IO Subsystem shall operate effectively in varying environmental conditions. Rationale: This ensures reliability in diverse operating environments, as specified in the EBSD 300 Product Requirements Specification.</p>\n",
       "<h1>Power Efficiency</h1>\n",
       "<p>The General IO Subsystem shall operate with minimal power consumption. Rationale: This ensures energy efficiency and cost-effectiveness, as outlined in the Simcenter documentation.</p>\n",
       "<h1>System Diagnostics</h1>\n",
       "<p>The General IO Subsystem shall perform self-diagnostics to ensure operational integrity. Rationale: This ensures system reliability and reduces downtime, as specified in the Simcenter documentation.</p>\n",
       "<h1>User-Friendly Interface</h1>\n",
       "<p>The General IO Subsystem shall provide a user-friendly interface for easy operation. Rationale: This ensures ease of use and user satisfaction, as outlined in the Simcenter documentation.</p>\n",
       "<h1>Scalability</h1>\n",
       "<p>The General IO Subsystem shall be scalable to accommodate future expansion needs. Rationale: This ensures long-term usability and adaptability, as specified in the Simcenter documentation.</p>\n",
       "<h1>Redundancy Support</h1>\n",
       "<p>The General IO Subsystem shall support redundancy to ensure continuous operation. Rationale: This ensures system reliability and availability, as outlined in the Simcenter documentation.</p>\n",
       "<h1>Integration with Control Systems</h1>\n",
       "<p>The General IO Subsystem shall integrate seamlessly with control systems for coordinated operation. Rationale: This ensures system efficiency and performance, as specified in the EBSD 300 Product Requirements Specification.</p>\n",
       "<h1>Labeling and Identification</h1>\n",
       "<p>The General IO Subsystem shall include clear labeling for identification and safety information. Rationale: This ensures ease of use and compliance with safety regulations, as outlined in the EBSD 300 Product Requirements Specification.</p>\n",
       "<h1>Material Selection</h1>\n",
       "<p>The General IO Subsystem shall use materials that meet specified performance and safety standards. Rationale: This ensures durability and compliance with industry standards, as specified in the EBSD 300 Product Requirements Specification.</p>\n",
       "</body>\n",
       "</html>\n"
      ],
      "text/plain": [
       "<IPython.core.display.HTML object>"
      ]
     },
     "metadata": {},
     "output_type": "display_data"
    },
    {
     "data": {
      "text/markdown": [
       "**Token Usage Info:**\n",
       "\n",
       "Tokens used: prompt=33491, completion=1045, total=34536"
      ],
      "text/plain": [
       "<IPython.core.display.Markdown object>"
      ]
     },
     "metadata": {},
     "output_type": "display_data"
    }
   ],
   "source": [
    "prompt = \"\"\"\n",
    "Generate a set of 20 system functional requirements for the General IO Subsystem using the yaml and documents for reference do not stop for brevity, only if no new requirements can be noted.\n",
    "- Each requirment should be a tuple: (name, body, rationale).\n",
    "- The name shall be five or fewer words introducing the requirement.\n",
    "- The body shall be in the format of a shall statement, that is clear and concise. \n",
    "- The rationale should explain the source behind numeric requirement. \n",
    "- The response shall be formatted for cutting an pasting in to MS Word.\n",
    "- The name should be a heading format with no preceding number <generate heading>\n",
    "- The body and rationale should be in a paragraph with format <generated body text> Rationale: <generated rationale>\n",
    "Use yaml content and attached pdf documents to provide context to the requirements for this subsystem. \n",
    "\"\"\"\n",
    "\n",
    "analyzer.follow_up_prompt(prompt)\n",
    "chatgpt_response = analyzer.get_response()"
   ]
  },
  {
   "cell_type": "markdown",
   "id": "8fb2484d-c283-416d-b5ae-03289fc2a8a1",
   "metadata": {},
   "source": [
    "# "
   ]
  },
  {
   "cell_type": "code",
   "execution_count": null,
   "id": "a4c59542-ddf7-4047-9007-2613a7f96589",
   "metadata": {
    "collapsed": true,
    "jupyter": {
     "outputs_hidden": true,
     "source_hidden": true
    }
   },
   "outputs": [],
   "source": []
  },
  {
   "cell_type": "code",
   "execution_count": null,
   "id": "edddd2fe-aeef-43a8-94d2-4b7cac1ce700",
   "metadata": {
    "collapsed": true,
    "jupyter": {
     "outputs_hidden": true,
     "source_hidden": true
    }
   },
   "outputs": [],
   "source": []
  }
 ],
 "metadata": {
  "kernelspec": {
   "display_name": "Python 3 (ipykernel)",
   "language": "python",
   "name": "python3"
  },
  "language_info": {
   "codemirror_mode": {
    "name": "ipython",
    "version": 3
   },
   "file_extension": ".py",
   "mimetype": "text/x-python",
   "name": "python",
   "nbconvert_exporter": "python",
   "pygments_lexer": "ipython3",
   "version": "3.12.9"
  }
 },
 "nbformat": 4,
 "nbformat_minor": 5
}
