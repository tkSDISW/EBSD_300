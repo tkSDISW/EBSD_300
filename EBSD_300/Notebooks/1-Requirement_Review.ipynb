{
 "cells": [
  {
   "cell_type": "markdown",
   "id": "2ef785c9-a1c0-4ad7-a185-02a1569ca072",
   "metadata": {},
   "source": [
    "# Model Based System Engineering Analyzer: \n",
    "## Leveraging AI for System Engineering\n",
    "\n",
    "Requirement Document Review for Model Analysis\n",
    "\n",
    "\n",
    "This notebook will load the requirements exported from teamcenter and use it to create a operation and system model. \n"
   ]
  },
  {
   "cell_type": "markdown",
   "id": "b5acc178-1a94-4014-b1f7-13c97a9ba4ec",
   "metadata": {},
   "source": [
    "### Model-Specific Code (Do Not Modify)\n",
    "\n",
    "This section contains code that is specific to the system model. It is updated only when the model is changed and should not require user modifications under normal circumstances.\n",
    "\n",
    "If a new model is introduced, ensure this section is reviewed and updated as needed.\n"
   ]
  },
  {
   "cell_type": "code",
   "execution_count": 1,
   "id": "c7ba8743-5dac-41be-9083-d44aa0199411",
   "metadata": {
    "scrolled": true
   },
   "outputs": [],
   "source": [
    "#!pip install --upgrade git+https://github.com/tkSDISW/Capella_Tools \n",
    "import capellambse.decl\n",
    "\n",
    "from capella_tools import capellambse_helper\n",
    "\n",
    "\n",
    "from IPython import display as diag_display\n",
    "resources = {\n",
    "    \"EBSD_300\": \"EBSD_300/EBSD_300\",\n",
    "}\n",
    "path_to_model = \"../EBSD_300.aird\"\n",
    "model = capellambse.MelodyModel(path_to_model, resources=resources)\n",
    "\n",
    "\n",
    "\n"
   ]
  },
  {
   "cell_type": "code",
   "execution_count": null,
   "id": "5f73131d-3ba3-4c6f-8418-378d418156a6",
   "metadata": {},
   "outputs": [],
   "source": []
  },
  {
   "cell_type": "markdown",
   "id": "f671a45d-5335-463c-802a-156296f21ad4",
   "metadata": {},
   "source": [
    "## 🎯 Prompt for System Model Element Analysis\n",
    "\n",
    "### Purpose\n",
    "This cell accepts a prompt to identify and isolate the specific object(s) to be analyzed. Providing detailed and accurate information in the prompt will ensure the best performance during the analysis.\n",
    "\n",
    "### What to Include in Your Prompt\n",
    "For optimal results, specify the following details about the object(s):\n",
    "1. **Type of ARCADIA Object:** Clearly state the type of the object (e.g., Logical Component, Physical Component, Functional Exchange).\n",
    "2. **Name of the Object:** Provide the exact name of the object as defined in the model.\n",
    "3. **ARCADIA Phase:** Specify the phase associated with the object (e.g., Operational Analysis, System Analysis, Logical Architecture, Physical Architecture).\n",
    "4. **Related Objects:** Identify any objects connected via exchanges or dependencies.\n",
    "\n",
    "### Example Prompt\n",
    "Locate the Logical Component named Brake Pedal in the Logical phase and has a Driver supplying input.\n",
    "### ✅ Tips for Success\n",
    "- **Use precise terminology:** Ensure your prompt aligns with the model's structure and terminology.\n",
    "- **Include related objects:** Whenever possible, specify related objects to enhance context and improve analysis accuracy.\n",
    "- **Double-check details:** Verify object names and phases to ensure they match the model exactly.\n",
    "'''\n",
    "\n",
    "### 🚀 Next Steps\n",
    "1. Run the cell below.\n",
    "2. Enter your prompt, providing the necessary details as outlined above.\n",
    "3. Wait for the analysis to complete.\n",
    "4. Select the best index or indexes for analysis. (The last selection will drive selection of a prompt.)\n",
    "\n",
    "> 💡 **Tip:** If you're unsure about the model structure, review the documentation or refer to the model's diagrams for additional guidance.\n"
   ]
  },
  {
   "cell_type": "code",
   "execution_count": 2,
   "id": "8cf53953-bfae-4677-9f45-906e72aa93e1",
   "metadata": {},
   "outputs": [
    {
     "name": "stdout",
     "output_type": "stream",
     "text": [
      "Warning: When  cdn_resources is 'local' jupyter notebook has issues displaying graphics on chrome/safari. Use cdn_resources='in_line' or cdn_resources='remote' if you have issues viewing graphics in a notebook.\n",
      "✅ ChatGPTAnalyzer initialized\n",
      "🔐 API Key: Loaded from secrets\n",
      "🌐 Base URL: https://api.openai.com/v1\n",
      "🤖 Model: gpt-4o\n",
      "✅ File `EBSD 300 Product Requirements Specification.pdf` added to messages for analysis.\n"
     ]
    },
    {
     "data": {
      "text/markdown": [
       "**Your prompt:** Give a brief description of the EBSD Format the response in .html format."
      ],
      "text/plain": [
       "<IPython.core.display.Markdown object>"
      ]
     },
     "metadata": {},
     "output_type": "display_data"
    },
    {
     "data": {
      "text/html": [
       "\n",
       "<!DOCTYPE html>\n",
       "\n",
       "<html lang=\"en\">\n",
       "<head>\n",
       "<meta charset=\"utf-8\"/>\n",
       "<meta content=\"width=device-width, initial-scale=1.0\" name=\"viewport\"/>\n",
       "<title>EBSD 300 Product Requirements Specification</title>\n",
       "</head>\n",
       "<body>\n",
       "<h1>EBSD 300 Product Requirements Specification</h1>\n",
       "<h2>Overview</h2>\n",
       "<p>The EBSD 300 is a product under the Simcenter brand, designed to provide a robust and high-quality solution for various applications. It is built to accommodate up to 10 plug-in units within its main chassis, which includes an embedded System on Chip (SoC) for high-level control and software management.</p>\n",
       "<h2>Key Features</h2>\n",
       "<ul>\n",
       "<li><strong>Storage Capabilities:</strong> Supports removable mass storage for programs and data, with data transfer capabilities limited only by size.</li>\n",
       "<li><strong>Execution Capabilities:</strong> User-specific hardware/software system configuration for execution capabilities.</li>\n",
       "<li><strong>Startup Capabilities:</strong> Initializes and performs internal tests with feedback provided by COTS components.</li>\n",
       "<li><strong>Data Processing:</strong> User-specific configuration for receiving and processing external data.</li>\n",
       "<li><strong>Warning Capabilities:</strong> User-specific configuration for caution and warning functionalities.</li>\n",
       "<li><strong>File Transfer:</strong> Supports file transfer via USB (V2.0), LAN, and Wireless.</li>\n",
       "<li><strong>Communication:</strong> Data transfer for communication via USB (V2.0).</li>\n",
       "</ul>\n",
       "<h2>Environmental Conditions</h2>\n",
       "<ul>\n",
       "<li><strong>Operating Temperature:</strong> 0 to 50 °C</li>\n",
       "<li><strong>Pressure Environment:</strong> Operates between 9.5 to 16.0 psia.</li>\n",
       "<li><strong>Humidity:</strong> Operates in 30-90% non-condensing relative humidity.</li>\n",
       "<li><strong>Vibration and Shock:</strong> Complies with 1g vibration and 15g shock requirements.</li>\n",
       "<li><strong>Radiation:</strong> Meets performance under specified ionizing radiation conditions.</li>\n",
       "<li><strong>Oxygen Environment:</strong> Performs in enriched oxygen environments up to 30% concentration.</li>\n",
       "</ul>\n",
       "<h2>Interfaces</h2>\n",
       "<ul>\n",
       "<li><strong>Rear Panel:</strong> Includes 1 Gigabit Ethernet port, 2 USB ports, 3 RS232 ports, 1 RS422/485 port, and 5 CAN connections.</li>\n",
       "<li><strong>Front Panel:</strong> Features a 28-pin I/O interface and a Fiber Optic RX/TX port.</li>\n",
       "</ul>\n",
       "<h2>Physical and Reliability Characteristics</h2>\n",
       "<ul>\n",
       "<li><strong>Design:</strong> Emphasizes robustness, high quality, brand recognition, and customization, with Siemens corporate color scheme.</li>\n",
       "<li><strong>Reliability:</strong> Includes failure tolerance, failure propagation analysis, and early failure screening through burn-in testing.</li>\n",
       "<li><strong>Usability:</strong> All interfaces and control elements are easily accessible on one side.</li>\n",
       "<li><strong>Diagnosis:</strong> Embedded monitoring capability for main board temperature.</li>\n",
       "<li><strong>Cooling:</strong> Fanless CPU cooling with a heat-sink.</li>\n",
       "</ul>\n",
       "</body>\n",
       "</html>\n"
      ],
      "text/plain": [
       "<IPython.core.display.HTML object>"
      ]
     },
     "metadata": {},
     "output_type": "display_data"
    },
    {
     "data": {
      "text/markdown": [
       "**Token Usage Info:**\n",
       "\n",
       "Tokens used: prompt=1661, completion=784, total=2445"
      ],
      "text/plain": [
       "<IPython.core.display.Markdown object>"
      ]
     },
     "metadata": {},
     "output_type": "display_data"
    }
   ],
   "source": [
    "import os\n",
    "from openai import OpenAI\n",
    "from IPython.core.display import HTML\n",
    "from IPython.display import display, clear_output, Markdown\n",
    "from capella_tools  import Open_AI_RAG_manager\n",
    "\n",
    "\n",
    "   \n",
    "\n",
    "\n",
    "# Step 2: Invoke ChatGPT for analysis\n",
    "analyzer = Open_AI_RAG_manager.ChatGPTAnalyzer()\n",
    "\n",
    "analyzer.add_text_file_to_messages(\"EBSD 300 Product Requirements Specification.pdf\")\n",
    "\n",
    "prompt = \"Give a brief description of the EBSD\"\n",
    "\n",
    "analyzer.initial_prompt(prompt)\n",
    "\n",
    "\n",
    "chatgpt_response = analyzer.get_response()\n"
   ]
  },
  {
   "cell_type": "markdown",
   "id": "0ab07e0f-6cdb-4b16-9c5b-0acd3e7944cd",
   "metadata": {},
   "source": [
    "## ⚙️ Execute Followup Prompts\n",
    "\n",
    "### Purpose\n",
    "This cell executes the **follow up prompts** defined for analyzing the model. These prompts can be added by the note book user in addition to the default prompts\n",
    "\n",
    "### What This Cell Does\n",
    "- Use the structured input file (e.g., `capella_model.yaml`).\n",
    "- Excutes the prompt defined in the cell.\n",
    "- Outputs the results directly in the notebook.\n",
    "\n",
    "### 🛠️ Instructions\n",
    "1. Ensure the `capella_model.yaml` file is generated and up-to-date.\n",
    "2. Run this cell to execute the default prompts.\n",
    "3. Review the output to verify the accuracy and relevance of the analysis.\n",
    "\n",
    "> 💡 **Tip:** Modify the promt to your needs."
   ]
  },
  {
   "cell_type": "code",
   "execution_count": 3,
   "id": "fab94bcf-5ea3-4d7d-89e8-508dcd603d71",
   "metadata": {},
   "outputs": [
    {
     "data": {
      "text/markdown": [
       "**Your prompt:** Generate a report that could be used to develop and FMEA based on the Braking functonal chain."
      ],
      "text/plain": [
       "<IPython.core.display.Markdown object>"
      ]
     },
     "metadata": {},
     "output_type": "display_data"
    },
    {
     "data": {
      "text/html": [
       "To develop a Failure Modes and Effects Analysis (FMEA) for the braking functional chain, it's essential to identify the components involved, their potential failure modes, effects of these failures, and possible causes. Below is a structured report that outlines these elements, which can be used as a basis for conducting an FMEA.\n",
       "\n",
       "```html\n",
       "<!DOCTYPE html>\n",
       "\n",
       "<html lang=\"en\">\n",
       "<head>\n",
       "<meta charset=\"utf-8\"/>\n",
       "<meta content=\"width=device-width, initial-scale=1.0\" name=\"viewport\"/>\n",
       "<title>FMEA Report for Braking Functional Chain</title>\n",
       "\n",
       "</head>\n",
       "<body>\n",
       "<h1>FMEA Report for Braking Functional Chain</h1>\n",
       "<h2>Introduction</h2>\n",
       "<p>This report provides a structured approach to identify potential failure modes within the braking functional chain, assess their effects, and determine possible causes. This analysis is crucial for improving the reliability and safety of the braking system.</p>\n",
       "<h2>Braking Functional Chain Components</h2>\n",
       "<ul>\n",
       "<li>Brake Pedal</li>\n",
       "<li>Brake Booster</li>\n",
       "<li>Master Cylinder</li>\n",
       "<li>Brake Lines</li>\n",
       "<li>Brake Calipers</li>\n",
       "<li>Brake Pads</li>\n",
       "<li>Brake Rotors</li>\n",
       "<li>Anti-lock Braking System (ABS)</li>\n",
       "</ul>\n",
       "<h2>FMEA Table</h2>\n",
       "<table>\n",
       "<thead>\n",
       "<tr>\n",
       "<th>Component</th>\n",
       "<th>Potential Failure Mode</th>\n",
       "<th>Potential Effect(s) of Failure</th>\n",
       "<th>Severity (1-10)</th>\n",
       "<th>Potential Cause(s) of Failure</th>\n",
       "<th>Occurrence (1-10)</th>\n",
       "<th>Current Controls</th>\n",
       "<th>Detection (1-10)</th>\n",
       "<th>RPN (Risk Priority Number)</th>\n",
       "<th>Recommended Actions</th>\n",
       "</tr>\n",
       "</thead>\n",
       "<tbody>\n",
       "<tr>\n",
       "<td>Brake Pedal</td>\n",
       "<td>Sticking or Loose Pedal</td>\n",
       "<td>Reduced braking efficiency</td>\n",
       "<td>8</td>\n",
       "<td>Wear and tear, mechanical failure</td>\n",
       "<td>5</td>\n",
       "<td>Regular maintenance checks</td>\n",
       "<td>4</td>\n",
       "<td>160</td>\n",
       "<td>Inspect and lubricate pedal mechanism</td>\n",
       "</tr>\n",
       "<tr>\n",
       "<td>Brake Booster</td>\n",
       "<td>Loss of Vacuum</td>\n",
       "<td>Increased pedal effort</td>\n",
       "<td>7</td>\n",
       "<td>Vacuum leak, diaphragm failure</td>\n",
       "<td>4</td>\n",
       "<td>Vacuum pressure monitoring</td>\n",
       "<td>3</td>\n",
       "<td>84</td>\n",
       "<td>Check for leaks, replace faulty booster</td>\n",
       "</tr>\n",
       "<tr>\n",
       "<td>Master Cylinder</td>\n",
       "<td>Fluid Leak</td>\n",
       "<td>Loss of braking power</td>\n",
       "<td>9</td>\n",
       "<td>Seal failure, corrosion</td>\n",
       "<td>3</td>\n",
       "<td>Fluid level monitoring</td>\n",
       "<td>5</td>\n",
       "<td>135</td>\n",
       "<td>Replace seals, inspect for corrosion</td>\n",
       "</tr>\n",
       "<tr>\n",
       "<td>Brake Lines</td>\n",
       "<td>Rupture or Leak</td>\n",
       "<td>Brake fluid loss, reduced braking</td>\n",
       "<td>9</td>\n",
       "<td>Corrosion, physical damage</td>\n",
       "<td>4</td>\n",
       "<td>Visual inspections</td>\n",
       "<td>4</td>\n",
       "<td>144</td>\n",
       "<td>Replace damaged lines, use corrosion-resistant materials</td>\n",
       "</tr>\n",
       "<tr>\n",
       "<td>Brake Calipers</td>\n",
       "<td>Sticking Pistons</td>\n",
       "<td>Uneven braking, increased wear</td>\n",
       "<td>6</td>\n",
       "<td>Corrosion, dirt buildup</td>\n",
       "<td>5</td>\n",
       "<td>Regular cleaning and lubrication</td>\n",
       "<td>3</td>\n",
       "<td>90</td>\n",
       "<td>Clean and lubricate calipers</td>\n",
       "</tr>\n",
       "<tr>\n",
       "<td>Brake Pads</td>\n",
       "<td>Excessive Wear</td>\n",
       "<td>Reduced braking efficiency</td>\n",
       "<td>8</td>\n",
       "<td>High friction, poor material</td>\n",
       "<td>6</td>\n",
       "<td>Wear indicators</td>\n",
       "<td>2</td>\n",
       "<td>96</td>\n",
       "<td>Use high-quality pads, replace regularly</td>\n",
       "</tr>\n",
       "<tr>\n",
       "<td>Brake Rotors</td>\n",
       "<td>Warping</td>\n",
       "<td>Vibration, reduced braking</td>\n",
       "<td>7</td>\n",
       "<td>Overheating, uneven wear</td>\n",
       "<td>4</td>\n",
       "<td>Temperature monitoring</td>\n",
       "<td>3</td>\n",
       "<td>84</td>\n",
       "<td>Ensure proper cooling, replace warped rotors</td>\n",
       "</tr>\n",
       "<tr>\n",
       "<td>ABS</td>\n",
       "<td>Sensor Failure</td>\n",
       "<td>Loss of anti-lock function</td>\n",
       "<td>8</td>\n",
       "<td>Electrical fault, sensor damage</td>\n",
       "<td>3</td>\n",
       "<td>Diagnostic checks</td>\n",
       "<td>4</td>\n",
       "<td>96</td>\n",
       "<td>Regular diagnostics, replace faulty sensors</td>\n",
       "</tr>\n",
       "</tbody>\n",
       "</table>\n",
       "<h2>Conclusion</h2>\n",
       "<p>This FMEA report identifies critical failure modes within the braking functional chain and provides recommendations to mitigate risks. Regular maintenance, inspections, and the use of high-quality components are essential to ensure the reliability and safety of the braking system.</p>\n",
       "</body>\n",
       "</html>\n",
       "```\n",
       "\n",
       "This report provides a comprehensive overview of potential failure modes, their effects, and recommended actions to mitigate risks in the braking functional chain. It can be used as a foundation for further analysis and improvement of the braking system's reliability and safety."
      ],
      "text/plain": [
       "<IPython.core.display.HTML object>"
      ]
     },
     "metadata": {},
     "output_type": "display_data"
    },
    {
     "data": {
      "text/markdown": [
       "**Token Usage Info:**\n",
       "\n",
       "Tokens used: prompt=2474, completion=1502, total=3976"
      ],
      "text/plain": [
       "<IPython.core.display.Markdown object>"
      ]
     },
     "metadata": {},
     "output_type": "display_data"
    }
   ],
   "source": [
    "#analyzer.follow_up_prompt(\"Generate a report that could be used to develop and FMEA based on the Braking functonal chain.\")\n",
    "#chatgpt_response = analyzer.get_response()\n",
    "\n",
    "\n"
   ]
  },
  {
   "cell_type": "code",
   "execution_count": null,
   "id": "ac1d370a-fcf4-4084-9064-f5e11a03a641",
   "metadata": {},
   "outputs": [
    {
     "name": "stdout",
     "output_type": "stream",
     "text": [
      "Starting interactive chat...\n"
     ]
    },
    {
     "data": {
      "application/vnd.jupyter.widget-view+json": {
       "model_id": "1967621c8d67454ea4c1e3d50d6cfa22",
       "version_major": 2,
       "version_minor": 0
      },
      "text/plain": [
       "Output()"
      ]
     },
     "metadata": {},
     "output_type": "display_data"
    },
    {
     "data": {
      "application/vnd.jupyter.widget-view+json": {
       "model_id": "53d7788de41f43e982acdd9329deb887",
       "version_major": 2,
       "version_minor": 0
      },
      "text/plain": [
       "Textarea(value='', layout=Layout(border_bottom='2px solid #4A90E2', border_left='2px solid #4A90E2', border_ri…"
      ]
     },
     "metadata": {},
     "output_type": "display_data"
    },
    {
     "data": {
      "application/vnd.jupyter.widget-view+json": {
       "model_id": "7f29d35c10a54f65bf2233ad39086626",
       "version_major": 2,
       "version_minor": 0
      },
      "text/plain": [
       "HBox(children=(Button(button_style='primary', description='Execute', style=ButtonStyle()), Button(button_style…"
      ]
     },
     "metadata": {},
     "output_type": "display_data"
    },
    {
     "data": {
      "application/vnd.jupyter.widget-view+json": {
       "model_id": "56ac3cfca88746f6ab65ab621cae2291",
       "version_major": 2,
       "version_minor": 0
      },
      "text/plain": [
       "Dropdown(description='Load file:', layout=Layout(width='auto'), options=('', 'EBSD 300 Product Requirements Sp…"
      ]
     },
     "metadata": {},
     "output_type": "display_data"
    },
    {
     "name": "stdout",
     "output_type": "stream",
     "text": [
      "Waiting for chat interactions...\n"
     ]
    }
   ],
   "source": [
    "analyzer.interactive_chat()\n"
   ]
  },
  {
   "cell_type": "code",
   "execution_count": null,
   "id": "57dea895-123c-4c7f-b386-89510fcfcd9d",
   "metadata": {},
   "outputs": [],
   "source": [
    "print(\"Done\")"
   ]
  },
  {
   "cell_type": "markdown",
   "id": "8fb2484d-c283-416d-b5ae-03289fc2a8a1",
   "metadata": {},
   "source": [
    "# "
   ]
  },
  {
   "cell_type": "code",
   "execution_count": null,
   "id": "a4c59542-ddf7-4047-9007-2613a7f96589",
   "metadata": {
    "collapsed": true,
    "jupyter": {
     "outputs_hidden": true,
     "source_hidden": true
    }
   },
   "outputs": [],
   "source": []
  },
  {
   "cell_type": "code",
   "execution_count": null,
   "id": "edddd2fe-aeef-43a8-94d2-4b7cac1ce700",
   "metadata": {
    "collapsed": true,
    "jupyter": {
     "outputs_hidden": true,
     "source_hidden": true
    }
   },
   "outputs": [],
   "source": []
  }
 ],
 "metadata": {
  "kernelspec": {
   "display_name": "Python 3 (ipykernel)",
   "language": "python",
   "name": "python3"
  },
  "language_info": {
   "codemirror_mode": {
    "name": "ipython",
    "version": 3
   },
   "file_extension": ".py",
   "mimetype": "text/x-python",
   "name": "python",
   "nbconvert_exporter": "python",
   "pygments_lexer": "ipython3",
   "version": "3.12.9"
  }
 },
 "nbformat": 4,
 "nbformat_minor": 5
}
